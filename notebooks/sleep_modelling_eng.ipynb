{
  "nbformat": 4,
  "nbformat_minor": 0,
  "metadata": {
    "colab": {
      "provenance": []
    },
    "kernelspec": {
      "name": "python3",
      "display_name": "Python 3"
    },
    "language_info": {
      "name": "python"
    }
  },
  "cells": [
    {
      "cell_type": "markdown",
      "source": [
        "# Load data and common preprocessing"
      ],
      "metadata": {
        "id": "PKcxMzx9grWP"
      }
    },
    {
      "cell_type": "code",
      "execution_count": null,
      "metadata": {
        "id": "5xPROWUfffd8"
      },
      "outputs": [],
      "source": [
        "import pandas as pd\n",
        "import numpy as np\n",
        "import matplotlib.pyplot as plt\n",
        "\n",
        "from sklearn.model_selection import (\n",
        "    StratifiedKFold,\n",
        "    LeaveOneOut,\n",
        "    GridSearchCV,\n",
        "    cross_val_predict,    # cross_val_predict: function that returns predictions for each cross-validation fold\n",
        "    learning_curve,       # learning_curve: function that computes training and validation scores as training size grows\n",
        "    KFold\n",
        ")\n",
        "from sklearn.pipeline import Pipeline           # Pipeline: links preprocessing steps to model training\n",
        "from sklearn.tree import DecisionTreeClassifier # DecisionTreeClassifier: decision tree classification model\n",
        "from sklearn.neighbors import KNeighborsClassifier  # KNeighborsClassifier: K-nearest neighbors classification model\n",
        "from sklearn.linear_model import LinearRegression   # LinearRegression: basic linear regression model\n",
        "from sklearn.preprocessing import PolynomialFeatures # PolynomialFeatures: expands features into polynomial terms\n",
        "from sklearn.metrics import (\n",
        "    confusion_matrix,          # confusion_matrix: computes the confusion matrix\n",
        "    ConfusionMatrixDisplay     # ConfusionMatrixDisplay: tool to plot the confusion matrix\n",
        ")\n",
        "\n",
        "\n",
        "# [0] Load data and apply common preprocessing\n",
        "# -------------------------------------------------------------------\n",
        "df = pd.read_csv(\"preprocessed_cmu_sleep.csv\")  # Load the preprocessed CSV data\n",
        "df = df[df[\"frac_nights_with_data\"] >= 0.8]      # Keep rows where ≥80% of nights have sleep data\n",
        "\n",
        "# Features for classification (X_clf, y_clf) and regression (X_reg, y_reg)\n",
        "feature = [\n",
        "    \"demo_gender\",    # gender (0 = male, 1 = female)\n",
        "    \"demo_race\",      # race code (0 = minority group, 1 = non-minority)\n",
        "    \"demo_firstgen\",  # first-generation status (0 = not first-gen, 1 = first-gen)\n",
        "    \"TotalSleepTime\", # total sleep time in minutes\n",
        "    \"bedtime_mssd\",   # bedtime variability in minutes\n",
        "    \"midpoint_sleep\", # midpoint of sleep period in minutes\n",
        "    \"daytime_sleep\",  # daytime sleep duration in minutes\n",
        "    \"Zterm_units_ZofZ\", # GPA converted to Z-score\n",
        "]\n",
        "X_clf, y_clf = df[feature], df[\"gpa_class\"]  # Classification target: gpa_class (A/B/C/D)\n",
        "X_reg, y_reg = df[feature], df[\"term_gpa\"]   # Regression target: term_gpa (scale up to 4.0)\n"
      ]
    },
    {
      "cell_type": "code",
      "source": [
        "# Calculate and print the percentage of each class in y_clf\n",
        "percentages = y_clf.value_counts(normalize=True) * 100\n",
        "print(percentages)"
      ],
      "metadata": {
        "id": "C1jbGNFXCvga"
      },
      "execution_count": null,
      "outputs": []
    },
    {
      "cell_type": "code",
      "source": [
        "# Exclude sleep variables\n",
        "feature = [\n",
        "    \"demo_gender\",    # gender (0 = male, 1 = female)\n",
        "    \"demo_race\",      # race code (0 = minority group, 1 = non-minority)\n",
        "    \"demo_firstgen\",  # first-generation status (0 = not first-gen, 1 = first-gen)\n",
        "]\n",
        "X_clf, y_clf = df[feature], df[\"gpa_class\"]  # Classification target: gpa_class (A/B/C/D)\n",
        "X_reg, y_reg = df[feature], df[\"term_gpa\"]   # Regression target: term_gpa (scale up to 4.0)"
      ],
      "metadata": {
        "id": "nbyR5ipVCzfb"
      },
      "execution_count": null,
      "outputs": []
    },
    {
      "cell_type": "code",
      "source": [
        "# Only sleep data\n",
        "feature = [\n",
        "    \"TotalSleepTime\",          # total sleep time in minutes\n",
        "    \"bedtime_mssd\",            # bedtime variability in minutes\n",
        "    \"midpoint_sleep\",          # midpoint of sleep period in minutes\n",
        "    \"daytime_sleep\",           # daytime sleep duration in minutes\n",
        "    \"sleep_consistency_index\", # sleep consistency index\n",
        "    \"sleep_efficiency_z\",      # sleep efficiency relative to academic load\n",
        "    \"day_night_ratio\",         # proportion of daytime sleep\n",
        "    \"sleep_debt\"               # sleep debt\n",
        "]\n",
        "X_clf, y_clf = df[feature], df[\"gpa_class\"]  # Classification target: gpa_class (A/B/C/D)\n",
        "X_reg, y_reg = df[feature], df[\"term_gpa\"]   # Regression target: term_gpa (scale up to 4.0)\n"
      ],
      "metadata": {
        "id": "W6V_RRsXDFKQ"
      },
      "execution_count": null,
      "outputs": []
    },
    {
      "cell_type": "markdown",
      "source": [
        "# Classification function\n",
        "\n"
      ],
      "metadata": {
        "id": "yXF684UGg1Q4"
      }
    },
    {
      "cell_type": "code",
      "source": [
        "# [1] classification function\n",
        "# -------------------------------------------------------------------\n",
        "def def_clf(model, param_grid, k_values=[3,5,7]):\n",
        "    \"\"\"\n",
        "    model       : model instance\n",
        "    param_grid  : parameters for GridSearchCV\n",
        "    k_values    : number of folds for KFold\n",
        "    \"\"\"\n",
        "\n",
        "    # 1) Run GridSearchCV for each k in k_values and save results\n",
        "    records = []\n",
        "    for k in k_values:\n",
        "        cv = StratifiedKFold(n_splits=k, shuffle=True, random_state=42)\n",
        "        gs = GridSearchCV(\n",
        "            Pipeline([(\"model\", model)]),  # Pipeline: ('model', model object)\n",
        "            param_grid,\n",
        "            cv=cv,\n",
        "            scoring=\"accuracy\",            # scoring metric: accuracy\n",
        "            n_jobs=-1,                     # use all CPU cores\n",
        "            verbose=1                      # print progress\n",
        "        )\n",
        "        gs.fit(X_clf, y_clf)              # fit the model and perform CV\n",
        "\n",
        "        # convert results to DataFrame\n",
        "        dfcv = pd.DataFrame(gs.cv_results_)\n",
        "        dfcv[\"k\"] = k                   # record which k produced these results\n",
        "        records.append(dfcv)\n",
        "\n",
        "    # 2) Combine results across k and rename columns\n",
        "    dfall = pd.concat(records, ignore_index=True)\n",
        "    dfall = dfall.rename(columns={\n",
        "        \"mean_test_score\": \"accuracy\",  # average accuracy\n",
        "    })\n",
        "\n",
        "    # 3) Sort by accuracy descending and extract top 5\n",
        "    dftop = dfall.sort_values(\"accuracy\", ascending=False).head(5)\n",
        "\n",
        "    # 4) Print top 5\n",
        "    print(f\"\\n[{model.__class__.__name__}] Top-5 across k={k_values} (CV Accuracy)\")\n",
        "    print(dftop[[\"k\",\"accuracy\",\"params\"]])\n",
        "\n",
        "    # 5) The first row among the top 5 is the final best\n",
        "    best = dftop.iloc[0]\n",
        "    best_k, best_acc, best_params = int(best[\"k\"]), best[\"accuracy\"], best[\"params\"]\n",
        "    print(f\"\\n→ Final Best: k={best_k}, accuracy={best_acc:.4f}, params={best_params}\")\n",
        "\n",
        "    # 6) Plot confusion matrix for the best model\n",
        "    best_pipe = Pipeline([(\"model\", model)])\n",
        "    best_pipe.set_params(**best_params) # set parameters found by grid search\n",
        "    best_pipe.fit(X_clf, y_clf)         # retrain on full data to get classes\n",
        "    cvb = StratifiedKFold(n_splits=best_k, shuffle=True, random_state=42)\n",
        "    ypred = cross_val_predict(best_pipe, X_clf, y_clf, cv=cvb)\n",
        "    cm = confusion_matrix(y_clf, ypred,\n",
        "                          labels=best_pipe.named_steps[\"model\"].classes_)\n",
        "    disp = ConfusionMatrixDisplay(cm,\n",
        "             display_labels=best_pipe.named_steps[\"model\"].classes_)\n",
        "    disp.plot()\n",
        "    disp.ax_.set_title(f\"{model.__class__.__name__} CM (k={best_k})\")\n",
        "\n",
        "    # 7) Plot the learning curve\n",
        "    train_sizes, train_scores, val_scores = learning_curve(\n",
        "        best_pipe,             # model to evaluate: best model\n",
        "        X_clf, y_clf,          # input data and labels\n",
        "        cv=cvb,                # StratifiedKFold\n",
        "        scoring=\"accuracy\",    # scoring metric: accuracy\n",
        "        train_sizes=np.linspace(0.1, 1.0, 5),  # training sample proportions\n",
        "        n_jobs=-1\n",
        "    )\n",
        "\n",
        "    # axis=1: group fold scores for each training proportion\n",
        "    train_mean = train_scores.mean(axis=1)  # training set accuracy\n",
        "    train_std  = train_scores.std(axis=1)   # training set standard deviation\n",
        "    val_mean   = val_scores.mean(axis=1)    # validation set accuracy\n",
        "    val_std    = val_scores.std(axis=1)     # validation set standard deviation\n",
        "\n",
        "    plt.figure()\n",
        "    plt.plot(train_sizes, train_mean, label=\"Train Acc\")  # plot training accuracy\n",
        "    plt.fill_between(train_sizes,\n",
        "                     train_mean - train_std,\n",
        "                     train_mean + train_std,\n",
        "                     alpha=0.2)  # shade area by one standard deviation\n",
        "    plt.plot(train_sizes, val_mean, label=\"Valid Acc\")   # plot validation accuracy\n",
        "    plt.fill_between(train_sizes,\n",
        "                     val_mean - val_std,\n",
        "                     val_mean + val_std,\n",
        "                     alpha=0.2)  # shade area by one standard deviation\n",
        "    plt.xlabel(\"Training examples\")\n",
        "    plt.ylabel(\"Accuracy\")\n",
        "    plt.title(f\"{model.__class__.__name__} Learning Curve (k={best_k})\")\n",
        "    plt.legend()\n",
        "    plt.show()\n",
        "\n",
        "    return dftop  # return the top-5 DataFrame\n"
      ],
      "metadata": {
        "id": "m7v8GSi2g7FS"
      },
      "execution_count": null,
      "outputs": []
    },
    {
      "cell_type": "markdown",
      "source": [
        "# Run Classification"
      ],
      "metadata": {
        "id": "IHzPlvfNhP1r"
      }
    },
    {
      "cell_type": "code",
      "source": [
        "# 7) Set params for each model\n",
        "# DecisionTree params setup\n",
        "dt_params = {\n",
        "    \"model__criterion\":        [\"gini\",\"entropy\"],\n",
        "    \"model__max_depth\":        [None,5,10,20],\n",
        "    \"model__min_samples_split\":[2,5,10],\n",
        "    \"model__min_samples_leaf\": [1,2,4]\n",
        "}\n",
        "# KNN params setup\n",
        "knn_params = {\n",
        "    \"model__n_neighbors\": list(range(1,51)),\n",
        "    \"model__weights\":     [\"uniform\",\"distance\"],\n",
        "    \"model__p\":           [1,2]\n",
        "}\n",
        "\n",
        "# 8) Call function for each model\n",
        "# call function (DecisionTree)\n",
        "dt = def_clf(DecisionTreeClassifier(random_state=42),\n",
        "             dt_params, k_values=[3,5,7])\n",
        "# call function (knn)\n",
        "knn = def_clf(KNeighborsClassifier(),\n",
        "              knn_params, k_values=[3,5,7])"
      ],
      "metadata": {
        "colab": {
          "base_uri": "https://localhost:8080/",
          "height": 1000
        },
        "id": "Q5R158CUhR2f",
        "outputId": "3a00d2e2-4283-4650-b28e-e4041131f63b"
      },
      "execution_count": null,
      "outputs": [
        {
          "output_type": "stream",
          "name": "stdout",
          "text": [
            "Fitting 3 folds for each of 72 candidates, totalling 216 fits\n",
            "Fitting 5 folds for each of 72 candidates, totalling 360 fits\n",
            "Fitting 7 folds for each of 72 candidates, totalling 504 fits\n",
            "\n",
            "[DecisionTreeClassifier] Top-5 across k=[3, 5, 7] (CV Accuracy)\n",
            "     k  accuracy                                             params\n",
            "154  7  0.397604  {'model__criterion': 'gini', 'model__max_depth...\n",
            "156  7  0.397575  {'model__criterion': 'gini', 'model__max_depth...\n",
            "157  7  0.397575  {'model__criterion': 'gini', 'model__max_depth...\n",
            "153  7  0.395563  {'model__criterion': 'gini', 'model__max_depth...\n",
            "155  7  0.395534  {'model__criterion': 'gini', 'model__max_depth...\n",
            "\n",
            "→ Final Best: k=7, accuracy=0.3976, params={'model__criterion': 'gini', 'model__max_depth': 5, 'model__min_samples_leaf': 1, 'model__min_samples_split': 5}\n",
            "Fitting 3 folds for each of 200 candidates, totalling 600 fits\n",
            "Fitting 5 folds for each of 200 candidates, totalling 1000 fits\n",
            "Fitting 7 folds for each of 200 candidates, totalling 1400 fits\n",
            "\n",
            "[KNeighborsClassifier] Top-5 across k=[3, 5, 7] (CV Accuracy)\n",
            "     k  accuracy                                             params\n",
            "397  5  0.424174  {'model__n_neighbors': 50, 'model__p': 1, 'mod...\n",
            "589  7  0.424135  {'model__n_neighbors': 48, 'model__p': 1, 'mod...\n",
            "418  7  0.422360  {'model__n_neighbors': 5, 'model__p': 2, 'mode...\n",
            "227  5  0.422302  {'model__n_neighbors': 7, 'model__p': 2, 'mode...\n",
            "496  7  0.421976  {'model__n_neighbors': 25, 'model__p': 1, 'mod...\n",
            "\n",
            "→ Final Best: k=5, accuracy=0.4242, params={'model__n_neighbors': 50, 'model__p': 1, 'model__weights': 'distance'}\n"
          ]
        },
        {
          "output_type": "display_data",
          "data": {
            "text/plain": [
              "<Figure size 640x480 with 2 Axes>"
            ],
            "image/png": "[encoded data removed]"
          },
          "metadata": {}
        },
        {
          "output_type": "display_data",
          "data": {
            "text/plain": [
              "<Figure size 640x480 with 2 Axes>"
            ],
            "image/png": "[encoded data removed]"
          },
          "metadata": {}
        }
      ]
    },
    {
      "cell_type": "markdown",
      "source": [
        "# Regression function"
      ],
      "metadata": {
        "id": "p22JacOThYoC"
      }
    },
    {
      "cell_type": "code",
      "source": [
        "from sklearn.metrics import mean_squared_error\n",
        "\n",
        "# [2] regression function\n",
        "# -------------------------------------------------------------------\n",
        "def def_reg(model, param_grid, k_values=[3,5,7]):\n",
        "    \"\"\"\n",
        "    model       : regression model instance\n",
        "    param_grid  : parameter grid for GridSearchCV\n",
        "    k_values    : list of KFold splits to use for the learning curve\n",
        "    \"\"\"\n",
        "    # 1) Run GridSearchCV for each k in k_values\n",
        "    records = []\n",
        "    for k in k_values:\n",
        "        cv = KFold(n_splits=k, shuffle=True, random_state=42)\n",
        "        gs = GridSearchCV(\n",
        "            Pipeline([(\"model\", model)]),\n",
        "            param_grid,\n",
        "            cv=cv,\n",
        "            scoring=\"neg_mean_squared_error\",\n",
        "            n_jobs=-1,\n",
        "            verbose=1\n",
        "        )\n",
        "        gs.fit(X_reg, y_reg)\n",
        "\n",
        "        # convert results to DataFrame and compute RMSE\n",
        "        dfcv = pd.DataFrame(gs.cv_results_)\n",
        "        dfcv[\"rmse\"] = np.sqrt(-dfcv[\"mean_test_score\"])\n",
        "        dfcv[\"k\"]    = k\n",
        "        records.append(dfcv)\n",
        "\n",
        "    # 2) Combine results across k and extract top 3\n",
        "    dfall = pd.concat(records, ignore_index=True)\n",
        "    dftop = dfall.sort_values(\"rmse\").head(3)\n",
        "\n",
        "    # 3) Print top 3\n",
        "    print(f\"\\n[{model.__class__.__name__}] Top-3 across k={k_values} (CV RMSE)\")\n",
        "    print(dftop[[\"k\",\"rmse\",\"params\"]])\n",
        "\n",
        "    # 4) Final best: k, RMSE, params\n",
        "    best = dftop.iloc[0]\n",
        "    best_k, best_rmse, best_params = int(best[\"k\"]), best[\"rmse\"], best[\"params\"]\n",
        "    print(f\"\\n→ Final Best: k={best_k}, RMSE={best_rmse:.4f}, params={best_params}\")\n",
        "\n",
        "    # 5) Train on full data with best parameters\n",
        "    best_pipe = Pipeline([(\"model\", model)])\n",
        "    best_pipe.set_params(**best_params)\n",
        "    best_pipe.fit(X_reg, y_reg)\n",
        "\n",
        "    # 6) Plot learning curve\n",
        "    cvb = KFold(n_splits=best_k, shuffle=True, random_state=42)\n",
        "    train_sizes, train_scores, val_scores = learning_curve(\n",
        "        best_pipe,            # model to evaluate: best model\n",
        "        X_reg, y_reg,         # input data and true labels\n",
        "        cv=cvb,               # KFold cross-validator\n",
        "        scoring=\"neg_mean_squared_error\", # scoring metric: negative MSE\n",
        "        train_sizes=np.linspace(0.1, 1.0, 5), # proportions of training samples\n",
        "        n_jobs=-1\n",
        "    )\n",
        "\n",
        "    # axis=1: group scores from folds for each training proportion\n",
        "    train_rmse = np.sqrt(-train_scores.mean(axis=1))  # training RMSE\n",
        "    val_rmse   = np.sqrt(-val_scores.mean(axis=1))    # validation RMSE\n",
        "    train_std  = np.sqrt(train_scores.std(axis=1))    # standard deviation for training\n",
        "    val_std    = np.sqrt(val_scores.std(axis=1))      # standard deviation for validation\n",
        "\n",
        "    plt.figure()\n",
        "    plt.plot(train_sizes * len(X_reg), train_rmse, label=\"Train RMSE\")  # plot training RMSE\n",
        "    plt.fill_between(\n",
        "        train_sizes * len(X_reg),\n",
        "        train_rmse - train_std,\n",
        "        train_rmse + train_std,\n",
        "        alpha=0.2)  # shade area by one standard deviation\n",
        "    plt.plot(train_sizes * len(X_reg), val_rmse, label=\"Valid RMSE\")   # plot validation RMSE\n",
        "    plt.fill_between(\n",
        "        train_sizes * len(X_reg),\n",
        "        val_rmse - val_std,\n",
        "        val_rmse + val_std,\n",
        "        alpha=0.2)  # shade area by one standard deviation\n",
        "    plt.xlabel(\"Training examples\")\n",
        "    plt.ylabel(\"RMSE\")\n",
        "    plt.title(f\"{model.__class__.__name__} Learning Curve (k={best_k})\")\n",
        "    plt.ylim(0, 2)\n",
        "    plt.legend()\n",
        "    plt.show()\n",
        "\n",
        "    return dftop  # return top-3 DataFrame\n"
      ],
      "metadata": {
        "id": "FuIRNsrChXnp"
      },
      "execution_count": null,
      "outputs": []
    },
    {
      "cell_type": "markdown",
      "source": [
        "# Run Regression"
      ],
      "metadata": {
        "id": "T6meUu7Dhekv"
      }
    },
    {
      "cell_type": "code",
      "source": [
        "# 4) Call function (LinearRegression)\n",
        "lr_params = {\"model__fit_intercept\": [True]}\n",
        "lr = def_reg(LinearRegression(), lr_params, k_values=[3,5,7])"
      ],
      "metadata": {
        "colab": {
          "base_uri": "https://localhost:8080/"
        },
        "id": "_mp55ecehd8a",
        "outputId": "ab8c210d-6837-45f8-82ad-63d52baa67b5"
      },
      "execution_count": null,
      "outputs": [
        {
          "output_type": "stream",
          "name": "stdout",
          "text": [
            "Fitting 488 folds for each of 1 candidates, totalling 488 fits\n",
            "\n",
            "[LinearRegression] LOOCV RMSE\n",
            "→ Final Best: RMSE=0.4467, params={'model': LinearRegression()}\n"
          ]
        }
      ]
    },
    {
      "cell_type": "markdown",
      "source": [
        "# Polynomial regression function\n"
      ],
      "metadata": {
        "id": "-aVw4dCOhkqA"
      }
    },
    {
      "cell_type": "code",
      "source": [
        "# [3] function for polynomial regression\n",
        "# -------------------------------------------------------------------\n",
        "def def_poly(degrees):\n",
        "    \"\"\"\n",
        "    degrees : the polynomial degrees to search\n",
        "    \"\"\"\n",
        "\n",
        "    # 1) run GridSearchCV\n",
        "    loo = LeaveOneOut()\n",
        "    gs  = GridSearchCV(\n",
        "        Pipeline([\n",
        "            (\"poly\", PolynomialFeatures(include_bias=False)),  # expand features by the specified degree\n",
        "            (\"model\", LinearRegression())\n",
        "        ]),\n",
        "        {\"poly__degree\": degrees}, # specify candidate polynomial degrees\n",
        "        cv=loo,\n",
        "        scoring=\"neg_mean_squared_error\", # returns negative MSE; lower MSE is better\n",
        "        n_jobs=-1,                    # processes run in parallel; -1 uses all cores\n",
        "        verbose=1                     # whether to print progress\n",
        "    )\n",
        "    gs.fit(X_reg, y_reg)        # train the model\n",
        "    dfcv = pd.DataFrame(gs.cv_results_)       # convert results to a DataFrame\n",
        "\n",
        "    # 2) convert negative MSE to RMSE\n",
        "    dfcv[\"rmse\"] = np.sqrt(-dfcv[\"mean_test_score\"])\n",
        "\n",
        "    # 3) print top 5 by RMSE\n",
        "    print(\"\\n[PolynomialRegression] degree별 RMSE\")\n",
        "    print(\n",
        "        dfcv[[\"param_poly__degree\",\"rmse\"]]\n",
        "        .rename(columns={\"param_poly__degree\":\"degree\"})\n",
        "        .sort_values(\"degree\")\n",
        "        .to_string(index=False)\n",
        "    )\n",
        "\n",
        "    # 4) print best result\n",
        "    best_d = gs.best_params_[\"poly__degree\"]\n",
        "    best_r = np.sqrt(-gs.best_score_)\n",
        "    print(f\"\\n→ 최종 Best: degree={best_d}, RMSE={best_r:.4f}\")\n",
        "\n",
        "    # 2) build pipeline to retrain on full data with best degree\n",
        "    best_pipe = Pipeline([\n",
        "        (\"poly\", PolynomialFeatures(degree=best_d, include_bias=False)),\n",
        "        (\"model\", LinearRegression())\n",
        "    ])\n",
        "    best_pipe.fit(X_reg, y_reg)\n",
        "\n",
        "    # 3) calculate learning curve (RMSE for regression)\n",
        "    cv5 = KFold(n_splits=5, shuffle=True, random_state=42)\n",
        "    train_sizes, train_scores, val_scores = learning_curve(\n",
        "        best_pipe,\n",
        "        X_reg, y_reg,\n",
        "        cv=cv5,\n",
        "        scoring=\"neg_mean_squared_error\",\n",
        "        train_sizes=np.linspace(0.1, 1.0, 5),\n",
        "        n_jobs=-1\n",
        "    )\n",
        "\n",
        "    # 4) convert to RMSE and standard deviation\n",
        "    train_rmse = np.sqrt(-train_scores.mean(axis=1))\n",
        "    val_rmse   = np.sqrt(-val_scores.mean(axis=1))\n",
        "    train_std  = np.sqrt(train_scores.std(axis=1))\n",
        "    val_std    = np.sqrt(val_scores.std(axis=1))\n",
        "\n",
        "    # 5) visualize learning curve\n",
        "    plt.figure()\n",
        "    plt.plot(train_sizes * len(X_reg), train_rmse, label=\"Train RMSE\")\n",
        "    plt.fill_between(train_sizes * len(X_reg),\n",
        "                     train_rmse - train_std,\n",
        "                     train_rmse + train_std,\n",
        "                     alpha=0.2)\n",
        "    plt.plot(train_sizes * len(X_reg), val_rmse, label=\"Valid RMSE\")\n",
        "    plt.fill_between(train_sizes * len(X_reg),\n",
        "                     val_rmse - val_std,\n",
        "                     val_rmse + val_std,\n",
        "                     alpha=0.2)\n",
        "\n",
        "    # fix y-axis from 0 to 2\n",
        "    plt.ylim(0, 2)\n",
        "\n",
        "    # set 5 ticks on y-axis (0.0, 0.5, 1.0, 1.5, 2.0)\n",
        "    plt.yticks(np.linspace(0, 2, 5))\n",
        "\n",
        "    plt.xlabel(\"Training examples\")\n",
        "    plt.ylabel(\"RMSE\")\n",
        "    plt.title(f\"PolynomialRegression (degree={best_d}) Learning Curve\")\n",
        "    plt.legend()\n",
        "    plt.show()\n",
        "\n",
        "    return dfcv.sort_values(\"rmse\").head(5)\n"
      ],
      "metadata": {
        "id": "8ICfOfj7hmrp"
      },
      "execution_count": null,
      "outputs": []
    },
    {
      "cell_type": "markdown",
      "source": [
        "# Run Polynomial regression"
      ],
      "metadata": {
        "id": "i9EpJyyLhpLY"
      }
    },
    {
      "cell_type": "code",
      "source": [
        "# 5) call function (Polynomial regression)\n",
        "poly = def_poly(degrees=[2,3,4])"
      ],
      "metadata": {
        "colab": {
          "base_uri": "https://localhost:8080/"
        },
        "id": "0lH2OsNNhpAt",
        "outputId": "7d60619d-d3dd-41ea-e42e-a7bd0f046961"
      },
      "execution_count": null,
      "outputs": [
        {
          "output_type": "stream",
          "name": "stdout",
          "text": [
            "Fitting 488 folds for each of 4 candidates, totalling 1952 fits\n",
            "\n",
            "[PolynomialRegression] degree-wise RMSE\n",
            " degree      rmse\n",
            "      1  0.446696\n",
            "      2  0.453604\n",
            "      3  0.962603\n",
            "      4 10.239812\n",
            "\n",
            "→ Final Best: degree=1, RMSE=0.4467\n"
          ]
        }
      ]
    },
    {
      "cell_type": "markdown",
      "source": [
        "# Permutation importance function"
      ],
      "metadata": {
        "id": "nEYp9Po4yVfo"
      }
    },
    {
      "cell_type": "code",
      "source": [
        "from sklearn.inspection import permutation_importance\n",
        "\n",
        "# Tool to measure feature importance\n",
        "# Measure importance by shuffling features and observing change in prediction error\n",
        "\n",
        "def P_importance(pipeline, X, y, feature_names,\n",
        "                                scoring, title,\n",
        "                                n_repeats=100, random_state=42\n",
        "                                ):\n",
        "    \"\"\"\n",
        "    Calculate permutation_importance,\n",
        "    normalize into a DataFrame and display as a styled bar chart.\n",
        "\n",
        "    pipeline      : already fitted Pipeline\n",
        "    X, y          : feature/target data\n",
        "    feature_names : list of feature names\n",
        "    scoring       : scoring parameter for permutation_importance\n",
        "    title         : title string for output\n",
        "    n_repeats     : number of repeats\n",
        "    random_state  : random seed\n",
        "    \"\"\"\n",
        "    # 1) compute importance\n",
        "    result = permutation_importance(\n",
        "        pipeline, X, y,\n",
        "        n_repeats=n_repeats,\n",
        "        random_state=random_state,\n",
        "        scoring=scoring,\n",
        "        n_jobs=-1\n",
        "    )\n",
        "\n",
        "    # 2) convert to DataFrame\n",
        "    imp = result.importances_mean  # get average importances\n",
        "\n",
        "\n",
        "    df_imp = pd.DataFrame({\n",
        "        \"feature\":        feature_names,  # feature_names: feature names\n",
        "        \"importance\":     imp            # permutation importance score for each feature\n",
        "    })\n",
        "\n",
        "    # 3) Min-Max normalization\n",
        "    df_imp[\"importance_norm\"] = (\n",
        "        df_imp[\"importance\"] - df_imp[\"importance\"].min()\n",
        "    ) / (\n",
        "        df_imp[\"importance\"].max() - df_imp[\"importance\"].min()\n",
        "    )\n",
        "\n",
        "    # 4) print results\n",
        "    print(f\"\\n[{title}]\")\n",
        "\n",
        "    # 5) styled bar chart\n",
        "    display(\n",
        "        df_imp.style.bar(\n",
        "            color=\"#FFA07A\",\n",
        "            subset=[\"importance_norm\"],\n",
        "            align=0\n",
        "        )\n",
        "    )\n",
        "\n",
        "    return df_imp"
      ],
      "metadata": {
        "id": "YXyJi2BwyUBO"
      },
      "execution_count": null,
      "outputs": []
    },
    {
      "cell_type": "code",
      "source": [
        "# 1) Decision Tree\n",
        "dt_pipe = Pipeline([(\"model\", DecisionTreeClassifier(random_state=42))])\n",
        "dt_pipe.set_params(**dt.iloc[0][\"params\"]).fit(X_clf, y_clf)\n",
        "df_dt_imp = P_importance(\n",
        "    dt_pipe, X_clf, y_clf, feature,\n",
        "    scoring=\"accuracy\",\n",
        "    title=\"Decision Tree Feature Importances\"\n",
        ")\n",
        "\n",
        "# 2) KNN\n",
        "knn_pipe = Pipeline([(\"model\", KNeighborsClassifier())])\n",
        "knn_pipe.set_params(**knn.iloc[0][\"params\"]).fit(X_clf, y_clf)\n",
        "df_knn_imp = P_importance(\n",
        "    knn_pipe, X_clf, y_clf, feature,\n",
        "    scoring=\"accuracy\",\n",
        "    title=\"KNN Feature Importances\"\n",
        ")\n",
        "\n",
        "# 3) Linear Regression\n",
        "lr_pipe = Pipeline([(\"model\", LinearRegression())])\n",
        "lr_pipe.set_params(**lr.iloc[0][\"params\"]).fit(X_reg, y_reg)\n",
        "df_lr_imp = P_importance(\n",
        "    lr_pipe, X_reg, y_reg, feature,\n",
        "    scoring=\"neg_mean_squared_error\",\n",
        "    title=\"LinearRegression Feature Importances\"\n",
        ")\n",
        "\n",
        "\n",
        "# 4) Polynomial Regression\n",
        "poly_pipe = Pipeline([\n",
        "    (\"poly\", PolynomialFeatures(include_bias=False)),\n",
        "    (\"model\", LinearRegression())\n",
        "])\n",
        "poly_pipe.set_params(poly__degree=int(poly.iloc[0][\"param_poly__degree\"])) \\\n",
        "         .fit(X_reg, y_reg)\n",
        "df_poly_imp = P_importance(\n",
        "    poly_pipe, X_reg, y_reg, feature,\n",
        "    scoring=\"neg_mean_squared_error\",\n",
        "    title=\"Polynomial Regression Feature Importances\"\n",
        ")\n"
      ],
      "metadata": {
        "id": "AoscEnJEyoF0"
      },
      "execution_count": null,
      "outputs": []
    },
    {
      "cell_type": "markdown",
      "source": [
        "# Ensemble method"
      ],
      "metadata": {
        "id": "J_Ia47ZRyzn-"
      }
    },
    {
      "cell_type": "code",
      "source": [
        "from sklearn.ensemble import RandomForestClassifier, RandomForestRegressor, GradientBoostingClassifier, GradientBoostingRegressor\n",
        "from xgboost import XGBClassifier, XGBRegressor\n",
        "\n",
        "# 0) parameter grid for ensemble models\n",
        "# RandomForest\n",
        "rf_params = {\n",
        "    # number of trees\n",
        "    \"model__n_estimators\":    [100, 200, 500],\n",
        "    # maximum tree depth, set low to prevent overfitting\n",
        "    \"model__max_depth\":       [3, 5, 8],\n",
        "    # minimum samples per leaf, set high to prevent overfitting\n",
        "    \"model__min_samples_leaf\":[5, 10, 20],\n",
        "    # number of features to consider at each split\n",
        "    \"model__max_features\":    [0.3, 0.5, \"sqrt\"]\n",
        "}\n",
        "\n",
        "# GradientBoosting\n",
        "gb_params = {\n",
        "    # learning rate: controls correction of previous errors, set low to prevent overfitting\n",
        "    \"model__learning_rate\": [0.05, 0.1],\n",
        "    # number of trees\n",
        "    \"model__n_estimators\":  [100, 200],\n",
        "    # maximum tree depth, set low to prevent overfitting\n",
        "    \"model__max_depth\":     [3, 5],\n",
        "    # fraction of training data sampled at each step, set <0.8 to prevent overfitting\n",
        "    \"model__subsample\":     [0.6, 0.8]\n",
        "}\n",
        "\n",
        "# XGBoost\n",
        "xgb_params = {\n",
        "    # number of trees\n",
        "    \"model__n_estimators\":      [100, 200, 500],\n",
        "    # maximum tree depth, set low to prevent overfitting\n",
        "    \"model__max_depth\":         [3, 5, 8],\n",
        "    # learning rate: controls correction of previous errors, set low to prevent overfitting\n",
        "    \"model__learning_rate\":     [0.05, 0.1],\n",
        "    # fraction of training data sampled at each step, set <0.8 to prevent overfitting\n",
        "    \"model__subsample\":         [0.6, 0.8]\n",
        "}\n"
      ],
      "metadata": {
        "id": "jWvdpwsby5rl"
      },
      "execution_count": null,
      "outputs": []
    },
    {
      "cell_type": "code",
      "source": [
        "# 1) Random Forest Classifier\n",
        "rf_clf = def_clf(\n",
        "    RandomForestClassifier(random_state=42),\n",
        "    rf_params,\n",
        "    k_values=[3,5,7]\n",
        ")"
      ],
      "metadata": {
        "id": "bq5Dh_tHzL5_"
      },
      "execution_count": null,
      "outputs": []
    },
    {
      "cell_type": "code",
      "source": [
        "# Call permutation importance function\n",
        "rf_clf_pipe = Pipeline([(\"model\", RandomForestClassifier(random_state=42, n_jobs=-1))])\n",
        "rf_clf_pipe.set_params(**rf_clf.iloc[0][\"params\"]).fit(X_clf, y_clf)\n",
        "df_rf_clf_imp = P_importance(\n",
        "    rf_clf_pipe,\n",
        "    X_clf,\n",
        "    y_clf,\n",
        "    feature,\n",
        "    scoring=\"accuracy\",\n",
        "    title=\"Random Forest Classifier Feature Importances\"\n",
        ")"
      ],
      "metadata": {
        "id": "dM0QdIx6zOKB"
      },
      "execution_count": null,
      "outputs": []
    },
    {
      "cell_type": "code",
      "source": [
        "# 2) Gradient Boosting Classifier\n",
        "gb_clf = def_clf(\n",
        "    GradientBoostingClassifier(random_state=42),\n",
        "    gb_params,\n",
        "    k_values=[3,5,7]\n",
        ")"
      ],
      "metadata": {
        "id": "BlZPBTr4zSWX"
      },
      "execution_count": null,
      "outputs": []
    },
    {
      "cell_type": "code",
      "source": [
        "# 3) Random Forest Regressor\n",
        "rf_reg = def_reg(\n",
        "    RandomForestRegressor(random_state=42, n_jobs=-1),\n",
        "    rf_params,\n",
        "    k_values=[3,5,7]\n",
        ")"
      ],
      "metadata": {
        "id": "mJUpCCftzU20"
      },
      "execution_count": null,
      "outputs": []
    },
    {
      "cell_type": "code",
      "source": [
        "# Call permutation importance function\n",
        "rf_reg_pipe = Pipeline([(\"model\", RandomForestRegressor(random_state=42, n_jobs=-1))])\n",
        "rf_reg_pipe.set_params(**rf_reg.iloc[0][\"params\"]).fit(X_reg, y_reg)\n",
        "df_rf_reg_imp = P_importance(\n",
        "    rf_reg_pipe,\n",
        "    X_reg,\n",
        "    y_reg,\n",
        "    feature,\n",
        "    scoring=\"neg_mean_squared_error\",\n",
        "    title=\"Random Forest Regressor Feature Importances\"\n",
        ")"
      ],
      "metadata": {
        "id": "Wt9Y1xrSzXB2"
      },
      "execution_count": null,
      "outputs": []
    },
    {
      "cell_type": "code",
      "source": [
        "# 4) Gradient Boosting Regressor\n",
        "gb_reg = def_reg(\n",
        "    GradientBoostingRegressor(random_state=42),\n",
        "    gb_params,\n",
        "    k_values=[3,5,7]\n",
        ")"
      ],
      "metadata": {
        "id": "Iym2KyyuzaYY"
      },
      "execution_count": null,
      "outputs": []
    },
    {
      "cell_type": "code",
      "source": [
        "# 5) XGBClassifier\n",
        "from sklearn.preprocessing import LabelEncoder\n",
        "\n",
        "# LabelEncoder to convert y_clf's string classes (A, B, C, D) to numbers\n",
        "le = LabelEncoder()\n",
        "y_xgb = le.fit_transform(y_clf)   # 'A'→0, 'B'→1, 'C'→2, 'D'→3\n",
        "y_clf_orig = y_clf.copy()\n",
        "y_clf = y_xgb\n",
        "\n",
        "xgb_clf = def_clf(\n",
        "    XGBClassifier(\n",
        "        eval_metric=\"mlogloss\",        # use multiclass logistic loss\n",
        "        objective=\"multi:softprob\",    # output probabilities\n",
        "        random_state=42,\n",
        "        n_jobs=-1\n",
        "    ),\n",
        "    xgb_params,\n",
        "    k_values=[3,5,7]\n",
        ")\n",
        "\n",
        "y_clf = y_clf_orig  # restore original string classes\n"
      ],
      "metadata": {
        "id": "YfDKwR5wzfOm"
      },
      "execution_count": null,
      "outputs": []
    },
    {
      "cell_type": "code",
      "source": [
        "# 6) XGBRegressor\n",
        "xgb_reg = def_reg(\n",
        "    XGBRegressor(\n",
        "        objective=\"reg:squarederror\",  # output regression loss\n",
        "        random_state=42,\n",
        "        n_jobs=-1\n",
        "    ),\n",
        "    xgb_params,\n",
        "    k_values=[3,5,7]\n",
        ")"
      ],
      "metadata": {
        "id": "vE1_v0YIzfbV"
      },
      "execution_count": null,
      "outputs": []
    }
  ]
}